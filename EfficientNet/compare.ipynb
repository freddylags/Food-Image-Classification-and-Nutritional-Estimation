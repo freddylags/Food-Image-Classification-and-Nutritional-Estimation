{
 "cells": [
  {
   "cell_type": "markdown",
   "metadata": {},
   "source": [
    "## Compare Models from classification reports"
   ]
  },
  {
   "cell_type": "code",
   "execution_count": 1,
   "metadata": {},
   "outputs": [],
   "source": [
    "import pandas as pd"
   ]
  },
  {
   "cell_type": "code",
   "execution_count": 2,
   "metadata": {},
   "outputs": [],
   "source": [
    "model1 = \"./res/classification_report_EfficientNetV2B2_20250311_040348 copy.csv\"\n",
    "model2 = \"./res/classification_report_EfficientNetV2B2_20250311_040348.csv\""
   ]
  },
  {
   "cell_type": "code",
   "execution_count": 3,
   "metadata": {},
   "outputs": [],
   "source": [
    "df1 = pd.read_csv(model1)\n",
    "df2 = pd.read_csv(model2)"
   ]
  },
  {
   "cell_type": "code",
   "execution_count": 4,
   "metadata": {},
   "outputs": [
    {
     "data": {
      "application/vnd.microsoft.datawrangler.viewer.v0+json": {
       "columns": [
        {
         "name": "index",
         "rawType": "int64",
         "type": "integer"
        },
        {
         "name": "classes",
         "rawType": "object",
         "type": "string"
        },
        {
         "name": "precision",
         "rawType": "float64",
         "type": "float"
        },
        {
         "name": "recall",
         "rawType": "float64",
         "type": "float"
        },
        {
         "name": "f1-score",
         "rawType": "float64",
         "type": "float"
        },
        {
         "name": "support",
         "rawType": "float64",
         "type": "float"
        }
       ],
       "conversionMethod": "pd.DataFrame",
       "ref": "b2ab7c93-494a-42de-bbd3-aa904bf210fd",
       "rows": [
        [
         "0",
         "apple_pie",
         "0.691",
         "0.636",
         "0.6625",
         "250.0"
        ],
        [
         "1",
         "baby_back_ribs",
         "0.7956204379562044",
         "0.872",
         "0.8320610687022901",
         "250.0"
        ],
        [
         "2",
         "baklava",
         "0.8928571428571429",
         "0.9",
         "0.896414342629482",
         "250.0"
        ],
        [
         "3",
         "beef_carpaccio",
         "0.8930041152263375",
         "0.868",
         "0.8803245436105477",
         "250.0"
        ],
        [
         "4",
         "beef_tartare",
         "0.7851851851851852",
         "0.848",
         "0.8153846153846154",
         "250.0"
        ]
       ],
       "shape": {
        "columns": 5,
        "rows": 5
       }
      },
      "text/html": [
       "<div>\n",
       "<style scoped>\n",
       "    .dataframe tbody tr th:only-of-type {\n",
       "        vertical-align: middle;\n",
       "    }\n",
       "\n",
       "    .dataframe tbody tr th {\n",
       "        vertical-align: top;\n",
       "    }\n",
       "\n",
       "    .dataframe thead th {\n",
       "        text-align: right;\n",
       "    }\n",
       "</style>\n",
       "<table border=\"1\" class=\"dataframe\">\n",
       "  <thead>\n",
       "    <tr style=\"text-align: right;\">\n",
       "      <th></th>\n",
       "      <th>classes</th>\n",
       "      <th>precision</th>\n",
       "      <th>recall</th>\n",
       "      <th>f1-score</th>\n",
       "      <th>support</th>\n",
       "    </tr>\n",
       "  </thead>\n",
       "  <tbody>\n",
       "    <tr>\n",
       "      <th>0</th>\n",
       "      <td>apple_pie</td>\n",
       "      <td>0.691000</td>\n",
       "      <td>0.636</td>\n",
       "      <td>0.662500</td>\n",
       "      <td>250.0</td>\n",
       "    </tr>\n",
       "    <tr>\n",
       "      <th>1</th>\n",
       "      <td>baby_back_ribs</td>\n",
       "      <td>0.795620</td>\n",
       "      <td>0.872</td>\n",
       "      <td>0.832061</td>\n",
       "      <td>250.0</td>\n",
       "    </tr>\n",
       "    <tr>\n",
       "      <th>2</th>\n",
       "      <td>baklava</td>\n",
       "      <td>0.892857</td>\n",
       "      <td>0.900</td>\n",
       "      <td>0.896414</td>\n",
       "      <td>250.0</td>\n",
       "    </tr>\n",
       "    <tr>\n",
       "      <th>3</th>\n",
       "      <td>beef_carpaccio</td>\n",
       "      <td>0.893004</td>\n",
       "      <td>0.868</td>\n",
       "      <td>0.880325</td>\n",
       "      <td>250.0</td>\n",
       "    </tr>\n",
       "    <tr>\n",
       "      <th>4</th>\n",
       "      <td>beef_tartare</td>\n",
       "      <td>0.785185</td>\n",
       "      <td>0.848</td>\n",
       "      <td>0.815385</td>\n",
       "      <td>250.0</td>\n",
       "    </tr>\n",
       "  </tbody>\n",
       "</table>\n",
       "</div>"
      ],
      "text/plain": [
       "          classes  precision  recall  f1-score  support\n",
       "0       apple_pie   0.691000   0.636  0.662500    250.0\n",
       "1  baby_back_ribs   0.795620   0.872  0.832061    250.0\n",
       "2         baklava   0.892857   0.900  0.896414    250.0\n",
       "3  beef_carpaccio   0.893004   0.868  0.880325    250.0\n",
       "4    beef_tartare   0.785185   0.848  0.815385    250.0"
      ]
     },
     "execution_count": 4,
     "metadata": {},
     "output_type": "execute_result"
    }
   ],
   "source": [
    "df1.head()"
   ]
  },
  {
   "cell_type": "code",
   "execution_count": 5,
   "metadata": {},
   "outputs": [
    {
     "data": {
      "application/vnd.microsoft.datawrangler.viewer.v0+json": {
       "columns": [
        {
         "name": "index",
         "rawType": "int64",
         "type": "integer"
        },
        {
         "name": "classes",
         "rawType": "object",
         "type": "string"
        },
        {
         "name": "precision",
         "rawType": "float64",
         "type": "float"
        },
        {
         "name": "recall",
         "rawType": "float64",
         "type": "float"
        },
        {
         "name": "f1-score",
         "rawType": "float64",
         "type": "float"
        },
        {
         "name": "support",
         "rawType": "float64",
         "type": "float"
        }
       ],
       "conversionMethod": "pd.DataFrame",
       "ref": "727a7bb0-9745-4dde-8ff5-45dad39a2769",
       "rows": [
        [
         "0",
         "apple_pie",
         "0.691304347826087",
         "0.636",
         "0.6625",
         "250.0"
        ],
        [
         "1",
         "baby_back_ribs",
         "0.7956204379562044",
         "0.872",
         "0.8320610687022901",
         "250.0"
        ],
        [
         "2",
         "baklava",
         "0.8928571428571429",
         "0.9",
         "0.896414342629482",
         "250.0"
        ],
        [
         "3",
         "beef_carpaccio",
         "0.8930041152263375",
         "0.868",
         "0.8803245436105477",
         "250.0"
        ],
        [
         "4",
         "beef_tartare",
         "0.7851851851851852",
         "0.848",
         "0.8153846153846154",
         "250.0"
        ]
       ],
       "shape": {
        "columns": 5,
        "rows": 5
       }
      },
      "text/html": [
       "<div>\n",
       "<style scoped>\n",
       "    .dataframe tbody tr th:only-of-type {\n",
       "        vertical-align: middle;\n",
       "    }\n",
       "\n",
       "    .dataframe tbody tr th {\n",
       "        vertical-align: top;\n",
       "    }\n",
       "\n",
       "    .dataframe thead th {\n",
       "        text-align: right;\n",
       "    }\n",
       "</style>\n",
       "<table border=\"1\" class=\"dataframe\">\n",
       "  <thead>\n",
       "    <tr style=\"text-align: right;\">\n",
       "      <th></th>\n",
       "      <th>classes</th>\n",
       "      <th>precision</th>\n",
       "      <th>recall</th>\n",
       "      <th>f1-score</th>\n",
       "      <th>support</th>\n",
       "    </tr>\n",
       "  </thead>\n",
       "  <tbody>\n",
       "    <tr>\n",
       "      <th>0</th>\n",
       "      <td>apple_pie</td>\n",
       "      <td>0.691304</td>\n",
       "      <td>0.636</td>\n",
       "      <td>0.662500</td>\n",
       "      <td>250.0</td>\n",
       "    </tr>\n",
       "    <tr>\n",
       "      <th>1</th>\n",
       "      <td>baby_back_ribs</td>\n",
       "      <td>0.795620</td>\n",
       "      <td>0.872</td>\n",
       "      <td>0.832061</td>\n",
       "      <td>250.0</td>\n",
       "    </tr>\n",
       "    <tr>\n",
       "      <th>2</th>\n",
       "      <td>baklava</td>\n",
       "      <td>0.892857</td>\n",
       "      <td>0.900</td>\n",
       "      <td>0.896414</td>\n",
       "      <td>250.0</td>\n",
       "    </tr>\n",
       "    <tr>\n",
       "      <th>3</th>\n",
       "      <td>beef_carpaccio</td>\n",
       "      <td>0.893004</td>\n",
       "      <td>0.868</td>\n",
       "      <td>0.880325</td>\n",
       "      <td>250.0</td>\n",
       "    </tr>\n",
       "    <tr>\n",
       "      <th>4</th>\n",
       "      <td>beef_tartare</td>\n",
       "      <td>0.785185</td>\n",
       "      <td>0.848</td>\n",
       "      <td>0.815385</td>\n",
       "      <td>250.0</td>\n",
       "    </tr>\n",
       "  </tbody>\n",
       "</table>\n",
       "</div>"
      ],
      "text/plain": [
       "          classes  precision  recall  f1-score  support\n",
       "0       apple_pie   0.691304   0.636  0.662500    250.0\n",
       "1  baby_back_ribs   0.795620   0.872  0.832061    250.0\n",
       "2         baklava   0.892857   0.900  0.896414    250.0\n",
       "3  beef_carpaccio   0.893004   0.868  0.880325    250.0\n",
       "4    beef_tartare   0.785185   0.848  0.815385    250.0"
      ]
     },
     "execution_count": 5,
     "metadata": {},
     "output_type": "execute_result"
    }
   ],
   "source": [
    "df2.head()"
   ]
  },
  {
   "cell_type": "code",
   "execution_count": 6,
   "metadata": {},
   "outputs": [],
   "source": [
    "comparison_df = df1.merge(df2, on='classes', suffixes=('_df1', '_df2'))"
   ]
  },
  {
   "cell_type": "code",
   "execution_count": 7,
   "metadata": {},
   "outputs": [
    {
     "data": {
      "application/vnd.microsoft.datawrangler.viewer.v0+json": {
       "columns": [
        {
         "name": "index",
         "rawType": "int64",
         "type": "integer"
        },
        {
         "name": "classes",
         "rawType": "object",
         "type": "string"
        },
        {
         "name": "precision_df1",
         "rawType": "float64",
         "type": "float"
        },
        {
         "name": "recall_df1",
         "rawType": "float64",
         "type": "float"
        },
        {
         "name": "f1-score_df1",
         "rawType": "float64",
         "type": "float"
        },
        {
         "name": "support_df1",
         "rawType": "float64",
         "type": "float"
        },
        {
         "name": "precision_df2",
         "rawType": "float64",
         "type": "float"
        },
        {
         "name": "recall_df2",
         "rawType": "float64",
         "type": "float"
        },
        {
         "name": "f1-score_df2",
         "rawType": "float64",
         "type": "float"
        },
        {
         "name": "support_df2",
         "rawType": "float64",
         "type": "float"
        }
       ],
       "conversionMethod": "pd.DataFrame",
       "ref": "4981e6ca-1a8e-49b3-8dd4-22f9b2e8e981",
       "rows": [
        [
         "0",
         "apple_pie",
         "0.691",
         "0.636",
         "0.6625",
         "250.0",
         "0.691304347826087",
         "0.636",
         "0.6625",
         "250.0"
        ],
        [
         "1",
         "baby_back_ribs",
         "0.7956204379562044",
         "0.872",
         "0.8320610687022901",
         "250.0",
         "0.7956204379562044",
         "0.872",
         "0.8320610687022901",
         "250.0"
        ],
        [
         "2",
         "baklava",
         "0.8928571428571429",
         "0.9",
         "0.896414342629482",
         "250.0",
         "0.8928571428571429",
         "0.9",
         "0.896414342629482",
         "250.0"
        ],
        [
         "3",
         "beef_carpaccio",
         "0.8930041152263375",
         "0.868",
         "0.8803245436105477",
         "250.0",
         "0.8930041152263375",
         "0.868",
         "0.8803245436105477",
         "250.0"
        ],
        [
         "4",
         "beef_tartare",
         "0.7851851851851852",
         "0.848",
         "0.8153846153846154",
         "250.0",
         "0.7851851851851852",
         "0.848",
         "0.8153846153846154",
         "250.0"
        ]
       ],
       "shape": {
        "columns": 9,
        "rows": 5
       }
      },
      "text/html": [
       "<div>\n",
       "<style scoped>\n",
       "    .dataframe tbody tr th:only-of-type {\n",
       "        vertical-align: middle;\n",
       "    }\n",
       "\n",
       "    .dataframe tbody tr th {\n",
       "        vertical-align: top;\n",
       "    }\n",
       "\n",
       "    .dataframe thead th {\n",
       "        text-align: right;\n",
       "    }\n",
       "</style>\n",
       "<table border=\"1\" class=\"dataframe\">\n",
       "  <thead>\n",
       "    <tr style=\"text-align: right;\">\n",
       "      <th></th>\n",
       "      <th>classes</th>\n",
       "      <th>precision_df1</th>\n",
       "      <th>recall_df1</th>\n",
       "      <th>f1-score_df1</th>\n",
       "      <th>support_df1</th>\n",
       "      <th>precision_df2</th>\n",
       "      <th>recall_df2</th>\n",
       "      <th>f1-score_df2</th>\n",
       "      <th>support_df2</th>\n",
       "    </tr>\n",
       "  </thead>\n",
       "  <tbody>\n",
       "    <tr>\n",
       "      <th>0</th>\n",
       "      <td>apple_pie</td>\n",
       "      <td>0.691000</td>\n",
       "      <td>0.636</td>\n",
       "      <td>0.662500</td>\n",
       "      <td>250.0</td>\n",
       "      <td>0.691304</td>\n",
       "      <td>0.636</td>\n",
       "      <td>0.662500</td>\n",
       "      <td>250.0</td>\n",
       "    </tr>\n",
       "    <tr>\n",
       "      <th>1</th>\n",
       "      <td>baby_back_ribs</td>\n",
       "      <td>0.795620</td>\n",
       "      <td>0.872</td>\n",
       "      <td>0.832061</td>\n",
       "      <td>250.0</td>\n",
       "      <td>0.795620</td>\n",
       "      <td>0.872</td>\n",
       "      <td>0.832061</td>\n",
       "      <td>250.0</td>\n",
       "    </tr>\n",
       "    <tr>\n",
       "      <th>2</th>\n",
       "      <td>baklava</td>\n",
       "      <td>0.892857</td>\n",
       "      <td>0.900</td>\n",
       "      <td>0.896414</td>\n",
       "      <td>250.0</td>\n",
       "      <td>0.892857</td>\n",
       "      <td>0.900</td>\n",
       "      <td>0.896414</td>\n",
       "      <td>250.0</td>\n",
       "    </tr>\n",
       "    <tr>\n",
       "      <th>3</th>\n",
       "      <td>beef_carpaccio</td>\n",
       "      <td>0.893004</td>\n",
       "      <td>0.868</td>\n",
       "      <td>0.880325</td>\n",
       "      <td>250.0</td>\n",
       "      <td>0.893004</td>\n",
       "      <td>0.868</td>\n",
       "      <td>0.880325</td>\n",
       "      <td>250.0</td>\n",
       "    </tr>\n",
       "    <tr>\n",
       "      <th>4</th>\n",
       "      <td>beef_tartare</td>\n",
       "      <td>0.785185</td>\n",
       "      <td>0.848</td>\n",
       "      <td>0.815385</td>\n",
       "      <td>250.0</td>\n",
       "      <td>0.785185</td>\n",
       "      <td>0.848</td>\n",
       "      <td>0.815385</td>\n",
       "      <td>250.0</td>\n",
       "    </tr>\n",
       "  </tbody>\n",
       "</table>\n",
       "</div>"
      ],
      "text/plain": [
       "          classes  precision_df1  recall_df1  f1-score_df1  support_df1  \\\n",
       "0       apple_pie       0.691000       0.636      0.662500        250.0   \n",
       "1  baby_back_ribs       0.795620       0.872      0.832061        250.0   \n",
       "2         baklava       0.892857       0.900      0.896414        250.0   \n",
       "3  beef_carpaccio       0.893004       0.868      0.880325        250.0   \n",
       "4    beef_tartare       0.785185       0.848      0.815385        250.0   \n",
       "\n",
       "   precision_df2  recall_df2  f1-score_df2  support_df2  \n",
       "0       0.691304       0.636      0.662500        250.0  \n",
       "1       0.795620       0.872      0.832061        250.0  \n",
       "2       0.892857       0.900      0.896414        250.0  \n",
       "3       0.893004       0.868      0.880325        250.0  \n",
       "4       0.785185       0.848      0.815385        250.0  "
      ]
     },
     "execution_count": 7,
     "metadata": {},
     "output_type": "execute_result"
    }
   ],
   "source": [
    "comparison_df.head()"
   ]
  },
  {
   "cell_type": "code",
   "execution_count": 9,
   "metadata": {},
   "outputs": [],
   "source": [
    "comparison_df = df1.merge(df2, on='classes', suffixes=('_model1', '_model2'))\n",
    "\n",
    "# Determine the better model for each metric\n",
    "for metric in ['precision', 'recall', 'f1-score']:\n",
    "    comparison_df[f'better_{metric}'] = comparison_df.apply(\n",
    "        lambda row: 'Model 1' if row[f'{metric}_model1'] > row[f'{metric}_model2'] else 'Model 2', axis=1\n",
    "    )"
   ]
  },
  {
   "cell_type": "code",
   "execution_count": 10,
   "metadata": {},
   "outputs": [
    {
     "data": {
      "application/vnd.microsoft.datawrangler.viewer.v0+json": {
       "columns": [
        {
         "name": "index",
         "rawType": "int64",
         "type": "integer"
        },
        {
         "name": "classes",
         "rawType": "object",
         "type": "string"
        },
        {
         "name": "precision_model1",
         "rawType": "float64",
         "type": "float"
        },
        {
         "name": "recall_model1",
         "rawType": "float64",
         "type": "float"
        },
        {
         "name": "f1-score_model1",
         "rawType": "float64",
         "type": "float"
        },
        {
         "name": "support_model1",
         "rawType": "float64",
         "type": "float"
        },
        {
         "name": "precision_model2",
         "rawType": "float64",
         "type": "float"
        },
        {
         "name": "recall_model2",
         "rawType": "float64",
         "type": "float"
        },
        {
         "name": "f1-score_model2",
         "rawType": "float64",
         "type": "float"
        },
        {
         "name": "support_model2",
         "rawType": "float64",
         "type": "float"
        },
        {
         "name": "better_precision",
         "rawType": "object",
         "type": "string"
        },
        {
         "name": "better_recall",
         "rawType": "object",
         "type": "string"
        },
        {
         "name": "better_f1-score",
         "rawType": "object",
         "type": "string"
        }
       ],
       "conversionMethod": "pd.DataFrame",
       "ref": "8caff2ed-23df-42b1-805d-a6b8dae49589",
       "rows": [
        [
         "0",
         "apple_pie",
         "0.691",
         "0.636",
         "0.6625",
         "250.0",
         "0.691304347826087",
         "0.636",
         "0.6625",
         "250.0",
         "Model 2",
         "Model 2",
         "Model 2"
        ],
        [
         "1",
         "baby_back_ribs",
         "0.7956204379562044",
         "0.872",
         "0.8320610687022901",
         "250.0",
         "0.7956204379562044",
         "0.872",
         "0.8320610687022901",
         "250.0",
         "Model 2",
         "Model 2",
         "Model 2"
        ],
        [
         "2",
         "baklava",
         "0.8928571428571429",
         "0.9",
         "0.896414342629482",
         "250.0",
         "0.8928571428571429",
         "0.9",
         "0.896414342629482",
         "250.0",
         "Model 2",
         "Model 2",
         "Model 2"
        ],
        [
         "3",
         "beef_carpaccio",
         "0.8930041152263375",
         "0.868",
         "0.8803245436105477",
         "250.0",
         "0.8930041152263375",
         "0.868",
         "0.8803245436105477",
         "250.0",
         "Model 2",
         "Model 2",
         "Model 2"
        ],
        [
         "4",
         "beef_tartare",
         "0.7851851851851852",
         "0.848",
         "0.8153846153846154",
         "250.0",
         "0.7851851851851852",
         "0.848",
         "0.8153846153846154",
         "250.0",
         "Model 2",
         "Model 2",
         "Model 2"
        ]
       ],
       "shape": {
        "columns": 12,
        "rows": 5
       }
      },
      "text/html": [
       "<div>\n",
       "<style scoped>\n",
       "    .dataframe tbody tr th:only-of-type {\n",
       "        vertical-align: middle;\n",
       "    }\n",
       "\n",
       "    .dataframe tbody tr th {\n",
       "        vertical-align: top;\n",
       "    }\n",
       "\n",
       "    .dataframe thead th {\n",
       "        text-align: right;\n",
       "    }\n",
       "</style>\n",
       "<table border=\"1\" class=\"dataframe\">\n",
       "  <thead>\n",
       "    <tr style=\"text-align: right;\">\n",
       "      <th></th>\n",
       "      <th>classes</th>\n",
       "      <th>precision_model1</th>\n",
       "      <th>recall_model1</th>\n",
       "      <th>f1-score_model1</th>\n",
       "      <th>support_model1</th>\n",
       "      <th>precision_model2</th>\n",
       "      <th>recall_model2</th>\n",
       "      <th>f1-score_model2</th>\n",
       "      <th>support_model2</th>\n",
       "      <th>better_precision</th>\n",
       "      <th>better_recall</th>\n",
       "      <th>better_f1-score</th>\n",
       "    </tr>\n",
       "  </thead>\n",
       "  <tbody>\n",
       "    <tr>\n",
       "      <th>0</th>\n",
       "      <td>apple_pie</td>\n",
       "      <td>0.691000</td>\n",
       "      <td>0.636</td>\n",
       "      <td>0.662500</td>\n",
       "      <td>250.0</td>\n",
       "      <td>0.691304</td>\n",
       "      <td>0.636</td>\n",
       "      <td>0.662500</td>\n",
       "      <td>250.0</td>\n",
       "      <td>Model 2</td>\n",
       "      <td>Model 2</td>\n",
       "      <td>Model 2</td>\n",
       "    </tr>\n",
       "    <tr>\n",
       "      <th>1</th>\n",
       "      <td>baby_back_ribs</td>\n",
       "      <td>0.795620</td>\n",
       "      <td>0.872</td>\n",
       "      <td>0.832061</td>\n",
       "      <td>250.0</td>\n",
       "      <td>0.795620</td>\n",
       "      <td>0.872</td>\n",
       "      <td>0.832061</td>\n",
       "      <td>250.0</td>\n",
       "      <td>Model 2</td>\n",
       "      <td>Model 2</td>\n",
       "      <td>Model 2</td>\n",
       "    </tr>\n",
       "    <tr>\n",
       "      <th>2</th>\n",
       "      <td>baklava</td>\n",
       "      <td>0.892857</td>\n",
       "      <td>0.900</td>\n",
       "      <td>0.896414</td>\n",
       "      <td>250.0</td>\n",
       "      <td>0.892857</td>\n",
       "      <td>0.900</td>\n",
       "      <td>0.896414</td>\n",
       "      <td>250.0</td>\n",
       "      <td>Model 2</td>\n",
       "      <td>Model 2</td>\n",
       "      <td>Model 2</td>\n",
       "    </tr>\n",
       "    <tr>\n",
       "      <th>3</th>\n",
       "      <td>beef_carpaccio</td>\n",
       "      <td>0.893004</td>\n",
       "      <td>0.868</td>\n",
       "      <td>0.880325</td>\n",
       "      <td>250.0</td>\n",
       "      <td>0.893004</td>\n",
       "      <td>0.868</td>\n",
       "      <td>0.880325</td>\n",
       "      <td>250.0</td>\n",
       "      <td>Model 2</td>\n",
       "      <td>Model 2</td>\n",
       "      <td>Model 2</td>\n",
       "    </tr>\n",
       "    <tr>\n",
       "      <th>4</th>\n",
       "      <td>beef_tartare</td>\n",
       "      <td>0.785185</td>\n",
       "      <td>0.848</td>\n",
       "      <td>0.815385</td>\n",
       "      <td>250.0</td>\n",
       "      <td>0.785185</td>\n",
       "      <td>0.848</td>\n",
       "      <td>0.815385</td>\n",
       "      <td>250.0</td>\n",
       "      <td>Model 2</td>\n",
       "      <td>Model 2</td>\n",
       "      <td>Model 2</td>\n",
       "    </tr>\n",
       "  </tbody>\n",
       "</table>\n",
       "</div>"
      ],
      "text/plain": [
       "          classes  precision_model1  recall_model1  f1-score_model1  \\\n",
       "0       apple_pie          0.691000          0.636         0.662500   \n",
       "1  baby_back_ribs          0.795620          0.872         0.832061   \n",
       "2         baklava          0.892857          0.900         0.896414   \n",
       "3  beef_carpaccio          0.893004          0.868         0.880325   \n",
       "4    beef_tartare          0.785185          0.848         0.815385   \n",
       "\n",
       "   support_model1  precision_model2  recall_model2  f1-score_model2  \\\n",
       "0           250.0          0.691304          0.636         0.662500   \n",
       "1           250.0          0.795620          0.872         0.832061   \n",
       "2           250.0          0.892857          0.900         0.896414   \n",
       "3           250.0          0.893004          0.868         0.880325   \n",
       "4           250.0          0.785185          0.848         0.815385   \n",
       "\n",
       "   support_model2 better_precision better_recall better_f1-score  \n",
       "0           250.0          Model 2       Model 2         Model 2  \n",
       "1           250.0          Model 2       Model 2         Model 2  \n",
       "2           250.0          Model 2       Model 2         Model 2  \n",
       "3           250.0          Model 2       Model 2         Model 2  \n",
       "4           250.0          Model 2       Model 2         Model 2  "
      ]
     },
     "execution_count": 10,
     "metadata": {},
     "output_type": "execute_result"
    }
   ],
   "source": [
    "comparison_df.head()"
   ]
  },
  {
   "cell_type": "code",
   "execution_count": null,
   "metadata": {},
   "outputs": [
    {
     "name": "stdout",
     "output_type": "stream",
     "text": [
      "better_precision Model 2\n",
      "better_recall Model 2\n",
      "better_f1-score Model 2\n"
     ]
    }
   ],
   "source": [
    "# Find mode (most frequent model) for each \"better_*\" column\n",
    "mode_stats = {}\n",
    "\n",
    "for metric in ['precision', 'recall', 'f1-score']:\n",
    "    mode_value = comparison_df[f'better_{metric}'].mode()[0]  # Get most frequent value\n",
    "    mode_stats[f'mode_better_{metric}'] = mode_value\n",
    "\n",
    "# Convert to DataFrame for display\n",
    "mode_df = pd.DataFrame([mode_stats])"
   ]
  },
  {
   "cell_type": "code",
   "execution_count": 13,
   "metadata": {},
   "outputs": [
    {
     "data": {
      "application/vnd.microsoft.datawrangler.viewer.v0+json": {
       "columns": [
        {
         "name": "index",
         "rawType": "int64",
         "type": "integer"
        },
        {
         "name": "mode_better_precision",
         "rawType": "object",
         "type": "string"
        },
        {
         "name": "mode_better_recall",
         "rawType": "object",
         "type": "string"
        },
        {
         "name": "mode_better_f1-score",
         "rawType": "object",
         "type": "string"
        }
       ],
       "conversionMethod": "pd.DataFrame",
       "ref": "59d498cb-5611-4486-8a5a-0f3041a8a2de",
       "rows": [
        [
         "0",
         "Model 2",
         "Model 2",
         "Model 2"
        ]
       ],
       "shape": {
        "columns": 3,
        "rows": 1
       }
      },
      "text/html": [
       "<div>\n",
       "<style scoped>\n",
       "    .dataframe tbody tr th:only-of-type {\n",
       "        vertical-align: middle;\n",
       "    }\n",
       "\n",
       "    .dataframe tbody tr th {\n",
       "        vertical-align: top;\n",
       "    }\n",
       "\n",
       "    .dataframe thead th {\n",
       "        text-align: right;\n",
       "    }\n",
       "</style>\n",
       "<table border=\"1\" class=\"dataframe\">\n",
       "  <thead>\n",
       "    <tr style=\"text-align: right;\">\n",
       "      <th></th>\n",
       "      <th>mode_better_precision</th>\n",
       "      <th>mode_better_recall</th>\n",
       "      <th>mode_better_f1-score</th>\n",
       "    </tr>\n",
       "  </thead>\n",
       "  <tbody>\n",
       "    <tr>\n",
       "      <th>0</th>\n",
       "      <td>Model 2</td>\n",
       "      <td>Model 2</td>\n",
       "      <td>Model 2</td>\n",
       "    </tr>\n",
       "  </tbody>\n",
       "</table>\n",
       "</div>"
      ],
      "text/plain": [
       "  mode_better_precision mode_better_recall mode_better_f1-score\n",
       "0               Model 2            Model 2              Model 2"
      ]
     },
     "execution_count": 13,
     "metadata": {},
     "output_type": "execute_result"
    }
   ],
   "source": [
    "mode_df.head()"
   ]
  },
  {
   "cell_type": "code",
   "execution_count": null,
   "metadata": {},
   "outputs": [],
   "source": []
  }
 ],
 "metadata": {
  "kernelspec": {
   "display_name": "ml-algo",
   "language": "python",
   "name": "python3"
  },
  "language_info": {
   "codemirror_mode": {
    "name": "ipython",
    "version": 3
   },
   "file_extension": ".py",
   "mimetype": "text/x-python",
   "name": "python",
   "nbconvert_exporter": "python",
   "pygments_lexer": "ipython3",
   "version": "3.12.7"
  }
 },
 "nbformat": 4,
 "nbformat_minor": 2
}
