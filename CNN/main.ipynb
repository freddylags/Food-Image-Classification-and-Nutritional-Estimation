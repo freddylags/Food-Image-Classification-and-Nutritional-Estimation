{
 "cells": [
  {
   "cell_type": "code",
   "execution_count": 1,
   "id": "initial_id",
   "metadata": {
    "ExecuteTime": {
     "end_time": "2025-02-03T15:45:43.457159Z",
     "start_time": "2025-02-03T15:45:43.445940Z"
    }
   },
   "outputs": [
    {
     "name": "stdout",
     "output_type": "stream",
     "text": [
      "haha test\n"
     ]
    }
   ],
   "source": [
    "print('haha test')"
   ]
  },
  {
   "cell_type": "code",
   "execution_count": 1,
   "id": "9e024631d8ddc187",
   "metadata": {},
   "outputs": [
    {
     "name": "stdout",
     "output_type": "stream",
     "text": [
      "haha test2\n"
     ]
    }
   ],
   "source": [
    "print('haha test2')"
   ]
  },
  {
   "cell_type": "code",
   "execution_count": null,
   "id": "fd0c9725-d1d5-4ada-b68e-0805edc4d577",
   "metadata": {},
   "outputs": [],
   "source": []
  }
 ],
 "metadata": {
  "kernelspec": {
   "display_name": "Python 3 (ipykernel)",
   "language": "python",
   "name": "python3"
  },
  "language_info": {
   "codemirror_mode": {
    "name": "ipython",
    "version": 3
   },
   "file_extension": ".py",
   "mimetype": "text/x-python",
   "name": "python",
   "nbconvert_exporter": "python",
   "pygments_lexer": "ipython3",
   "version": "3.10.12"
  }
 },
 "nbformat": 4,
 "nbformat_minor": 5
}
