{
 "cells": [
  {
   "cell_type": "code",
   "execution_count": 1,
   "id": "106695ba-f6e5-4230-8cbc-45a860438bd9",
   "metadata": {},
   "outputs": [
    {
     "name": "stderr",
     "output_type": "stream",
     "text": [
      "2025-02-13 16:18:57.494658: E tensorflow/compiler/xla/stream_executor/cuda/cuda_dnn.cc:9342] Unable to register cuDNN factory: Attempting to register factory for plugin cuDNN when one has already been registered\n",
      "2025-02-13 16:18:57.494794: E tensorflow/compiler/xla/stream_executor/cuda/cuda_fft.cc:609] Unable to register cuFFT factory: Attempting to register factory for plugin cuFFT when one has already been registered\n",
      "2025-02-13 16:18:57.494838: E tensorflow/compiler/xla/stream_executor/cuda/cuda_blas.cc:1518] Unable to register cuBLAS factory: Attempting to register factory for plugin cuBLAS when one has already been registered\n",
      "2025-02-13 16:18:58.843106: W tensorflow/compiler/tf2tensorrt/utils/py_utils.cc:38] TF-TRT Warning: Could not find TensorRT\n"
     ]
    }
   ],
   "source": [
    "# Import Required Libraries\n",
    "import os\n",
    "import numpy as np\n",
    "import tensorflow as tf\n",
    "import matplotlib.pyplot as plt\n",
    "from tensorflow.keras.preprocessing.image import ImageDataGenerator\n",
    "from tensorflow.keras.applications import InceptionV3\n",
    "from tensorflow.keras.applications.inception_v3 import preprocess_input\n",
    "from tensorflow.keras.layers import Dense, GlobalAveragePooling2D, Dropout\n",
    "from tensorflow.keras.models import Model\n",
    "from tensorflow.keras.optimizers import Adam\n"
   ]
  },
  {
   "cell_type": "code",
   "execution_count": 2,
   "id": "5c23fd2a-4cb8-4cd9-b78f-a7ab1f33e55d",
   "metadata": {},
   "outputs": [],
   "source": [
    "# Define Paths\n",
    "dataset_path = \"food-101/images\"  # Change this path if necessary"
   ]
  },
  {
   "cell_type": "code",
   "execution_count": 4,
   "id": "b41cd9a7-8f3a-46b1-bb25-7dca9c4bffe4",
   "metadata": {},
   "outputs": [
    {
     "name": "stdout",
     "output_type": "stream",
     "text": [
      "Found 80800 images belonging to 101 classes.\n",
      "Found 20200 images belonging to 101 classes.\n"
     ]
    }
   ],
   "source": [
    "# Set Up Data Generators\n",
    "img_size = (299, 299)  # InceptionV3 input size\n",
    "batch_size = 32  # You can adjust based on your GPU\n",
    "\n",
    "train_datagen = ImageDataGenerator(\n",
    "    rescale=1./255, \n",
    "    preprocessing_function=preprocess_input,\n",
    "    validation_split=0.2\n",
    ")\n",
    "\n",
    "train_generator = train_datagen.flow_from_directory(\n",
    "    dataset_path,\n",
    "    target_size=img_size,\n",
    "    batch_size=batch_size,\n",
    "    class_mode='categorical',\n",
    "    subset=\"training\"\n",
    ")\n",
    "\n",
    "val_generator = train_datagen.flow_from_directory(\n",
    "    dataset_path,\n",
    "    target_size=img_size,\n",
    "    batch_size=batch_size,\n",
    "    class_mode='categorical',\n",
    "    subset=\"validation\"\n",
    ")\n",
    "\n",
    "num_classes = len(train_generator.class_indices)\n"
   ]
  },
  {
   "cell_type": "code",
   "execution_count": 5,
   "id": "4cec45e4-17bc-4fe0-b98c-3cd96bd75cd4",
   "metadata": {},
   "outputs": [
    {
     "name": "stdout",
     "output_type": "stream",
     "text": [
      "Downloading data from https://storage.googleapis.com/tensorflow/keras-applications/inception_v3/inception_v3_weights_tf_dim_ordering_tf_kernels_notop.h5\n",
      "87910968/87910968 [==============================] - 2s 0us/step\n"
     ]
    }
   ],
   "source": [
    "# Load Pretrained InceptionV3\n",
    "base_model = InceptionV3(weights=\"imagenet\", include_top=False, input_shape=(299, 299, 3))\n",
    "\n",
    "# Freeze the base model\n",
    "base_model.trainable = False\n",
    "\n",
    "# Add custom layers\n",
    "x = base_model.output\n",
    "x = GlobalAveragePooling2D()(x)\n",
    "x = Dropout(0.5)(x)\n",
    "x = Dense(512, activation=\"relu\")(x)\n",
    "x = Dropout(0.5)(x)\n",
    "output_layer = Dense(num_classes, activation=\"softmax\")(x)\n",
    "\n",
    "# Create model\n",
    "model = Model(inputs=base_model.input, outputs=output_layer)"
   ]
  },
  {
   "cell_type": "code",
   "execution_count": 6,
   "id": "9e24c84d-67cb-4a05-a4b1-6f419573000b",
   "metadata": {},
   "outputs": [],
   "source": [
    "# Compile the Model\n",
    "model.compile(optimizer=Adam(learning_rate=0.0001), loss=\"categorical_crossentropy\", metrics=[\"accuracy\"])\n"
   ]
  },
  {
   "cell_type": "code",
   "execution_count": 7,
   "id": "19cfb1ee-2810-442f-b40f-0b3a34880764",
   "metadata": {},
   "outputs": [
    {
     "name": "stdout",
     "output_type": "stream",
     "text": [
      "Epoch 1/10\n",
      "2525/2525 [==============================] - 7311s 3s/step - loss: 4.6272 - accuracy: 0.0130 - val_loss: 4.5793 - val_accuracy: 0.0214\n",
      "Epoch 2/10\n",
      "2525/2525 [==============================] - 11593s 5s/step - loss: 4.5672 - accuracy: 0.0196 - val_loss: 4.5202 - val_accuracy: 0.0265\n",
      "Epoch 3/10\n",
      "2525/2525 [==============================] - 9313s 4s/step - loss: 4.5275 - accuracy: 0.0240 - val_loss: 4.4800 - val_accuracy: 0.0311\n",
      "Epoch 4/10\n",
      "2525/2525 [==============================] - 9638s 4s/step - loss: 4.4977 - accuracy: 0.0275 - val_loss: 4.4457 - val_accuracy: 0.0379\n",
      "Epoch 5/10\n",
      "2525/2525 [==============================] - 8880s 4s/step - loss: 4.4705 - accuracy: 0.0308 - val_loss: 4.4154 - val_accuracy: 0.0423\n",
      "Epoch 6/10\n",
      "2525/2525 [==============================] - 8979s 4s/step - loss: 4.4423 - accuracy: 0.0338 - val_loss: 4.3853 - val_accuracy: 0.0470\n",
      "Epoch 7/10\n",
      "2525/2525 [==============================] - 6644s 3s/step - loss: 4.4209 - accuracy: 0.0364 - val_loss: 4.3605 - val_accuracy: 0.0508\n",
      "Epoch 8/10\n",
      "2525/2525 [==============================] - 4345s 2s/step - loss: 4.3967 - accuracy: 0.0411 - val_loss: 4.3407 - val_accuracy: 0.0540\n",
      "Epoch 9/10\n",
      "2525/2525 [==============================] - 4256s 2s/step - loss: 4.3787 - accuracy: 0.0429 - val_loss: 4.3155 - val_accuracy: 0.0580\n",
      "Epoch 10/10\n",
      "2525/2525 [==============================] - 4604s 2s/step - loss: 4.3630 - accuracy: 0.0453 - val_loss: 4.2958 - val_accuracy: 0.0622\n"
     ]
    }
   ],
   "source": [
    "epochs = 10  # Start small to test\n",
    "history = model.fit(train_generator, validation_data=val_generator, epochs=epochs)\n"
   ]
  },
  {
   "cell_type": "code",
   "execution_count": null,
   "id": "a082a99c-97f8-4de6-9b7f-2253d721327f",
   "metadata": {},
   "outputs": [
    {
     "name": "stdout",
     "output_type": "stream",
     "text": [
      "632/632 [==============================] - 601s 951ms/step - loss: 4.2958 - accuracy: 0.0622\n",
      "Validation Accuracy: 0.06\n"
     ]
    }
   ],
   "source": [
    "# Evaluate the Model\n",
    "val_loss, val_acc = model.evaluate(val_generator)\n",
    "print(f\"Validation Accuracy: {val_acc:.2f}\")\n"
   ]
  },
  {
   "cell_type": "code",
   "execution_count": null,
   "id": "2aeae052-7fae-4815-b529-7cb2e457aaf0",
   "metadata": {},
   "outputs": [
    {
     "name": "stderr",
     "output_type": "stream",
     "text": [
      "/opt/jupyterhub/pyvenv/lib/python3.10/site-packages/keras/src/engine/training.py:3079: UserWarning: You are saving your model as an HDF5 file via `model.save()`. This file format is considered legacy. We recommend using instead the native Keras format, e.g. `model.save('my_model.keras')`.\n",
      "  saving_api.save_model(\n"
     ]
    }
   ],
   "source": [
    "# Save the Model\n",
    "model.save(\"food101_inceptionv3full.h5\")\n"
   ]
  },
  {
   "cell_type": "code",
   "execution_count": null,
   "id": "ba59a9b1-bff4-4334-82c9-b824239963da",
   "metadata": {},
   "outputs": [
    {
     "data": {
      "image/png": "[encoded data removed]",
      "text/plain": [
       "<Figure size 640x480 with 1 Axes>"
      ]
     },
     "metadata": {},
     "output_type": "display_data"
    }
   ],
   "source": [
    "plt.plot(history.history[\"accuracy\"], label=\"Train Accuracy\")\n",
    "plt.plot(history.history[\"val_accuracy\"], label=\"Validation Accuracy\")\n",
    "plt.xlabel(\"Epochs\")\n",
    "plt.ylabel(\"Accuracy\")\n",
    "plt.legend()\n",
    "plt.show()\n"
   ]
  }
 ],
 "metadata": {
  "kernelspec": {
   "display_name": "Python 3 (ipykernel)",
   "language": "python",
   "name": "python3"
  },
  "language_info": {
   "codemirror_mode": {
    "name": "ipython",
    "version": 3
   },
   "file_extension": ".py",
   "mimetype": "text/x-python",
   "name": "python",
   "nbconvert_exporter": "python",
   "pygments_lexer": "ipython3",
   "version": "3.10.12"
  }
 },
 "nbformat": 4,
 "nbformat_minor": 5
}
